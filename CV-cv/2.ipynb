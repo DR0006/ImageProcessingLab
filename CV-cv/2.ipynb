{
 "cells": [
  {
   "cell_type": "code",
   "execution_count": 3,
   "outputs": [],
   "source": [
    "import cv2\n",
    "\n",
    "\n",
    "# 等比例缩放显示\n",
    "def show_frame(frame):\n",
    "    # 获取图像的宽度和高度\n",
    "    height, width = frame.shape[:2]\n",
    "\n",
    "    # 设置希望的缩放宽度\n",
    "    desired_width = 400\n",
    "\n",
    "    # 计算缩放比例，确保等比例缩放\n",
    "    scale_factor = desired_width / width\n",
    "\n",
    "    # 计算缩放后的新高度\n",
    "    desired_height = int(height * scale_factor)\n",
    "\n",
    "    # 缩放图像\n",
    "    resized_image = cv2.resize(frame, (desired_width, desired_height))\n",
    "    return resized_image"
   ],
   "metadata": {
    "collapsed": false
   }
  },
  {
   "cell_type": "code",
   "execution_count": 4,
   "metadata": {
    "collapsed": true
   },
   "outputs": [],
   "source": [
    "from copy import copy\n",
    "\n",
    "img = cv2.imread(r\"../images/car.png\")\n",
    "new_img = copy(img)\n",
    "\n",
    "#（20,20）表示左上角开始的坐标，0.5表示字母的大小，(0, 0, 255)表示颜色，1表示粗细\n",
    "cv2.putText(img, 'Original image', (20, 20), cv2.FONT_HERSHEY_COMPLEX, 0.5, (0, 0, 255), 1)\n",
    "cv2.imshow('img', show_frame(img))\n",
    "\n",
    "# 均值滤波\n",
    "# 参数：new_img原图像， (5x5)内核大小，分别表示像素宽度，像素高度\n",
    "img_mean = cv2.blur(new_img, (5, 5))\n",
    "cv2.putText(img_mean, 'Mean filtering', (20, 20), cv2.FONT_HERSHEY_COMPLEX, 0.5, (0, 0, 255), 1)\n",
    "cv2.imshow('img_mean', show_frame(img_mean))\n",
    "\n",
    "# 中值滤波\n",
    "# ksize：参数表示滤波窗口尺寸，必须是奇数并且大于 1。比如这里是 5，\n",
    "# 中值滤波器就会使用 5×5 的范围来计算，即对像素的中心值及其 5×5\n",
    "# 邻域组成了一个数值集，对其进行处理计算，当前像素被其中值替换掉；\n",
    "img_median = cv2.medianBlur(new_img, 5)\n",
    "cv2.putText(img_median, 'Median filtering', (20, 20), cv2.FONT_HERSHEY_COMPLEX, 0.5, (0, 0, 255), 1)\n",
    "cv2.imshow('img_median', show_frame(img_median))\n",
    "\n",
    "# 高斯滤波\n",
    "# 0表示高斯核函数在X方向的的标准偏差。\n",
    "img_Gaussian = cv2.GaussianBlur(new_img, (5, 5), 0)\n",
    "new_img_Gaussian = copy(img_Gaussian)\n",
    "cv2.putText(img_Gaussian, 'Gaussian filtering', (20, 20), cv2.FONT_HERSHEY_COMPLEX, 0.5, (0, 0, 255), 1)\n",
    "cv2.imshow('img_Gaussian', show_frame(img_Gaussian))\n",
    "\n",
    "#高斯边缘检测\n",
    "edged = cv2.Laplacian(new_img_Gaussian, cv2.CV_16S, ksize=5)\n",
    "result = cv2.convertScaleAbs(edged)\n",
    "cv2.putText(result, 'Gaussian edge detection', (20, 20), cv2.FONT_HERSHEY_COMPLEX, 0.5, (0, 0, 255), 1)\n",
    "cv2.imshow(\"edged\", show_frame(result))\n",
    "\n",
    "cv2.waitKey()\n",
    "cv2.destroyAllWindows()"
   ]
  }
 ],
 "metadata": {
  "kernelspec": {
   "display_name": "Python 3",
   "language": "python",
   "name": "python3"
  },
  "language_info": {
   "codemirror_mode": {
    "name": "ipython",
    "version": 2
   },
   "file_extension": ".py",
   "mimetype": "text/x-python",
   "name": "python",
   "nbconvert_exporter": "python",
   "pygments_lexer": "ipython2",
   "version": "2.7.6"
  }
 },
 "nbformat": 4,
 "nbformat_minor": 0
}
