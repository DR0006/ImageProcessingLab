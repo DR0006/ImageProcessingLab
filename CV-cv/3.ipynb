{
 "cells": [
  {
   "cell_type": "code",
   "execution_count": 8,
   "outputs": [],
   "source": [
    "import cv2\n",
    "\n",
    "\n",
    "# 等比例缩放显示\n",
    "def show_frame(frame):\n",
    "    # 获取图像的宽度和高度\n",
    "    height, width = frame.shape[:2]\n",
    "\n",
    "    # 设置希望的缩放宽度\n",
    "    desired_width = 400\n",
    "\n",
    "    # 计算缩放比例，确保等比例缩放\n",
    "    scale_factor = desired_width / width\n",
    "\n",
    "    # 计算缩放后的新高度\n",
    "    desired_height = int(height * scale_factor)\n",
    "\n",
    "    # 缩放图像\n",
    "    resized_image = cv2.resize(frame, (desired_width, desired_height))\n",
    "    return resized_image"
   ],
   "metadata": {
    "collapsed": false
   }
  },
  {
   "cell_type": "code",
   "execution_count": 44,
   "metadata": {
    "collapsed": true
   },
   "outputs": [],
   "source": [
    "import cv2\n",
    "from pathlib import Path\n",
    "\n",
    "current_path = Path.cwd()\n",
    "\n",
    "#读取图片\n",
    "image1 = cv2.imread(str(Path(current_path.parent, 'images/car_plate.png')))\n",
    "cv2.imshow(\"image1\", show_frame(image1))\n",
    "\n",
    "#灰度处理\n",
    "gray = cv2.cvtColor(image1, cv2.COLOR_BGR2GRAY)\n",
    "cv2.imshow(\"gray\", show_frame(gray))\n",
    "\n",
    "#对灰度处理进行反色\n",
    "fanse = cv2.bitwise_not(gray)\n",
    "cv2.imshow(\"fanse\", show_frame(fanse))\n",
    "\n",
    "#二值化\n",
    "_, thresh = cv2.threshold(gray, 130, 255, cv2.THRESH_BINARY)  # 阈值分割，得到二值图\n",
    "cv2.imshow(\"binary\", show_frame(thresh))\n",
    "\n",
    "# 水平投影\n",
    "thresh1 = thresh.copy()\n",
    "high, width = thresh1.shape  # 返回高和宽\n",
    "# 初始化一个跟图像高一样长度的数组，用于记录每一行的黑点个数\n",
    "arr1 = [0 for n in range(0, high)]\n",
    "for row in range(0, high):  # 遍历每行\n",
    "    for column in range(0, width):  # 遍历每列\n",
    "        if thresh1[row, column] == 0:  # 判断该点是否为黑点，0代表黑点\n",
    "            arr1[row] += 1  # 该行的计数器加一\n",
    "            thresh1[row, column] = 255  # 将其改为白点，即等于255\n",
    "for row in range(0, high):  # 遍历每一行\n",
    "    for column in range(0, arr1[row]):  # 从该行应该变黑的最左边的点开始向最右边的点设置黑点\n",
    "        thresh1[row, column] = 0  # 设置黑点\n",
    "cv2.imshow('hproject', show_frame(thresh1))\n",
    "\n",
    "# 垂直投影\n",
    "thresh2 = thresh.copy()\n",
    "high, width = thresh2.shape  # 返回高和宽\n",
    "# 初始化一个跟图像宽一样长度的数组，用于记录每一列的黑点个数\n",
    "arr2 = [0 for n in range(0, width)]\n",
    "for column in range(0, width):  # 遍历每一列\n",
    "    for row in range(0, high):  # 遍历每一行\n",
    "        if thresh2[row, column] == 0:  # 判断该点是否为黑点，0代表是黑点\n",
    "            arr2[column] += 1  # 该列的计数器加1\n",
    "            thresh2[row, column] = 255  # 记录完后将其变为白色，即等于255\n",
    "for column in range(0, width):  # 遍历每一列\n",
    "    for row in range(high - arr2[column], high):  # 从该列应该变黑的最顶部的开始向最底部设为黑点\n",
    "        thresh2[row, column] = 0  # 设为黑点\n",
    "cv2.imshow('vproject', show_frame(thresh2))\n",
    "\n",
    "image = cv2.cvtColor(thresh, cv2.COLOR_GRAY2RGB)\n",
    "cv2.imshow('image', show_frame(image))\n",
    "\n",
    "cv2.waitKey()\n",
    "cv2.destroyAllWindows()"
   ]
  }
 ],
 "metadata": {
  "kernelspec": {
   "display_name": "Python 3",
   "language": "python",
   "name": "python3"
  },
  "language_info": {
   "codemirror_mode": {
    "name": "ipython",
    "version": 2
   },
   "file_extension": ".py",
   "mimetype": "text/x-python",
   "name": "python",
   "nbconvert_exporter": "python",
   "pygments_lexer": "ipython2",
   "version": "2.7.6"
  }
 },
 "nbformat": 4,
 "nbformat_minor": 0
}
