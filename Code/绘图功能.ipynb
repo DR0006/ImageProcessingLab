{
 "cells": [
  {
   "cell_type": "markdown",
   "source": [
    "img：您要绘制形状的图像\n",
    "color：形状的颜色。对于BGR，将其作为元组传递，例如：(255,0,0)对于蓝色。对于灰度，只需传递标量值即可。\n",
    "厚度：线或圆等的粗细。如果对闭合图形（如圆）传递-1 ，它将填充形状。默认厚度= 1\n",
    "lineType：线的类型，是否为8连接线，抗锯齿线等。默认情况下，为8连接线。**cv.LINE_AA**给出了抗锯齿的线条，看起来非常适合曲线。"
   ],
   "metadata": {
    "collapsed": false
   }
  },
  {
   "cell_type": "code",
   "execution_count": 41,
   "metadata": {
    "collapsed": true
   },
   "outputs": [],
   "source": [
    "import cv2\n",
    "import numpy as np\n",
    "\n",
    "# 创建黑色的图像,像素值为0\n",
    "img = np.zeros((512, 512, 3), np.uint8)  # 512x512像素，并且具有3个通道\n",
    "\n",
    "# cv2.imshow(\"img\", img)\n",
    "\n",
    "# 矩形\n",
    "# (0, 128), (512, 256) 矩阵左上角和右下角的坐标\n",
    "cv2.rectangle(img, (0, 128), (512, 256), (0, 255, 0), 3)  # 绘制一个矩形\n",
    "\n",
    "# 线\n",
    "# (0, 128), (512, 128)起点和终点\n",
    "# (255,0,0) BGR 蓝色\n",
    "cv2.line(img, (0, 128), (512, 128), (255, 0, 0), 10)  #在矩阵上方绘制一条粗度为10的线\n",
    "\n",
    "# 绘制文本\n",
    "font = cv2.FONT_HERSHEY_SIMPLEX\n",
    "# 2：这是文本的线条宽度。指定线条宽度为2像素。\n",
    "cv2.putText(img, 'OpenCV', (10, 256), font, 4, (255, 255, 255), 2, cv2.LINE_AA)\n",
    "\n",
    "# 绘制中文\n",
    "from ChineseText import cv2img_add_text\n",
    "\n",
    "img_cn = cv2img_add_text(img, \"你干嘛\", 360, 300, (255, 255, 0), 20)\n",
    "\n",
    "cv2.imshow(\"img\", img)\n",
    "cv2.waitKey(0)\n",
    "\n",
    "cv2.imshow(\"img_cv\", img_cn)\n",
    "cv2.waitKey(0)\n",
    "\n",
    "cv2.destroyAllWindows()"
   ]
  }
 ],
 "metadata": {
  "kernelspec": {
   "display_name": "Python 3",
   "language": "python",
   "name": "python3"
  },
  "language_info": {
   "codemirror_mode": {
    "name": "ipython",
    "version": 2
   },
   "file_extension": ".py",
   "mimetype": "text/x-python",
   "name": "python",
   "nbconvert_exporter": "python",
   "pygments_lexer": "ipython2",
   "version": "2.7.6"
  }
 },
 "nbformat": 4,
 "nbformat_minor": 0
}
