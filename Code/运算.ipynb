{
 "cells": [
  {
   "cell_type": "code",
   "execution_count": 4,
   "metadata": {
    "collapsed": true
   },
   "outputs": [
    {
     "name": "stdout",
     "output_type": "stream",
     "text": [
      "[[255]]\n",
      "[4]\n"
     ]
    }
   ],
   "source": [
    "import cv2\n",
    "# 注意 OpenCV加法和Numpy加法之间有区别。OpenCV加法是饱和运算，而Numpy加法是模运算。\n",
    "import numpy as np\n",
    "\n",
    "x = np.uint8([250])\n",
    "y = np.uint8([10])\n",
    "\n",
    "print(cv2.add(x, y, ))  # 250+10 = 260 => 255\n",
    "print(x + y)  # 250+10 = 260 % 256 = 4"
   ]
  },
  {
   "cell_type": "markdown",
   "source": [
    "addWeighted"
   ],
   "metadata": {
    "collapsed": false
   }
  },
  {
   "cell_type": "markdown",
   "source": [
    "*图像融合*\n",
    "dst=α⋅img1+β⋅img2+γ\n",
    "两张图片的shape要相同"
   ],
   "metadata": {
    "collapsed": false
   }
  },
  {
   "cell_type": "code",
   "execution_count": 9,
   "outputs": [
    {
     "name": "stdout",
     "output_type": "stream",
     "text": [
      "(698, 698, 3) (698, 698, 3)\n"
     ]
    }
   ],
   "source": [
    "img1 = cv2.imread('../images/R-C (1).png')\n",
    "img2 = cv2.imread('../images/R-C (2).png')\n",
    "print(img1.shape, img2.shape)\n",
    "dst = cv2.addWeighted(img1, 0.9, img2, 0.3, 0)\n",
    "cv2.imshow('dst', dst)\n",
    "cv2.waitKey(0)\n",
    "cv2.destroyAllWindows()"
   ],
   "metadata": {
    "collapsed": false
   }
  },
  {
   "cell_type": "markdown",
   "source": [
    "按位运算"
   ],
   "metadata": {
    "collapsed": false
   }
  },
  {
   "cell_type": "markdown",
   "source": [
    "把Notion的图片p到图片的左上角"
   ],
   "metadata": {
    "collapsed": false
   }
  },
  {
   "cell_type": "code",
   "execution_count": 8,
   "outputs": [],
   "source": [
    "# 加载两张图片\n",
    "import cv2 as cv\n",
    "\n",
    "img1 = cv.imread('../images/img.png')\n",
    "img2 = cv.imread('../images/Notion.png')\n",
    "# 我想把logo放在左上角，所以我创建了ROI\n",
    "rows, cols, channels = img2.shape  # 根据Notion图片的大小，获取相关信息\n",
    "roi = img1[0:rows, 0:cols]  # 选出感兴趣区域.就是想要处理的位置\n",
    "\n",
    "cv.imshow(\"roi\", roi)\n",
    "cv.waitKey(0)\n",
    "cv.destroyWindow(\"roi\")\n",
    "\n",
    "# 现在创建logo的掩码，并同时创建其相反掩码\n",
    "img2gray = cv.cvtColor(img2, cv.COLOR_BGR2GRAY)\n",
    "ret, mask = cv.threshold(img2gray, 10, 255, cv.THRESH_BINARY)\n",
    "mask_inv = cv.bitwise_not(mask)\n",
    "\n",
    "cv.imshow(\"img2gray\", img2gray)\n",
    "cv.waitKey(0)\n",
    "cv.destroyWindow(\"img2gray\")\n",
    "\n",
    "# ----------------------------------------------------------------\n",
    "cv.imshow(\"mask\", mask)\n",
    "cv.waitKey(0)\n",
    "cv.destroyWindow(\"mask\")\n",
    "\n",
    "cv.imshow(\"mask_inv\", mask_inv)\n",
    "cv.waitKey(0)\n",
    "cv.destroyWindow(\"mask_inv\")\n",
    "# ----------------------------------------------------------------\n",
    "\n",
    "# 现在将ROI中logo的区域涂黑\n",
    "img1_bg = cv.bitwise_and(roi, roi, mask=mask_inv)\n",
    "\n",
    "cv.imshow(\"img1_bg\", img1_bg)\n",
    "cv.waitKey(0)\n",
    "cv.destroyWindow(\"img1_bg\")\n",
    "\n",
    "# 仅从logo图像中提取logo区域\n",
    "img2_fg = cv.bitwise_and(img2, img2, mask=mask)\n",
    "\n",
    "cv.imshow(\"img2_fg\", img2_fg)\n",
    "cv.waitKey(0)\n",
    "cv.destroyWindow(\"img2_fg\")\n",
    "\n",
    "# 将logo放入ROI并修改主图像\n",
    "dst = cv.add(img1_bg, img2_fg)\n",
    "\n",
    "cv.imshow(\"dst\", dst)\n",
    "cv.waitKey(0)\n",
    "\n",
    "img1[0:rows, 0:cols] = dst\n",
    "cv.imshow('res', img1)\n",
    "cv.waitKey(0)\n",
    "cv.destroyAllWindows()"
   ],
   "metadata": {
    "collapsed": false
   }
  }
 ],
 "metadata": {
  "kernelspec": {
   "display_name": "Python 3",
   "language": "python",
   "name": "python3"
  },
  "language_info": {
   "codemirror_mode": {
    "name": "ipython",
    "version": 2
   },
   "file_extension": ".py",
   "mimetype": "text/x-python",
   "name": "python",
   "nbconvert_exporter": "python",
   "pygments_lexer": "ipython2",
   "version": "2.7.6"
  }
 },
 "nbformat": 4,
 "nbformat_minor": 0
}
