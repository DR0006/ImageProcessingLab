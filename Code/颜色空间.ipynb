{
 "cells": [
  {
   "cell_type": "markdown",
   "source": [
    "对于颜色转换，我们使用cv函数。cvtColor(input_image, flag)，其中flag决定转换的类型。\n",
    "\n",
    "对于BGR→灰度转换，我们使用标志cv.COLOR_BGR2GRAY。\n",
    "\n",
    "类似地，对于BGR→HSV，我们使用标志cv.COLOR_BGR2HSV。\n",
    "\n",
    "要获取其他标记，只需在Python终端中运行以下命令:"
   ],
   "metadata": {
    "collapsed": false
   }
  },
  {
   "cell_type": "code",
   "execution_count": 1,
   "metadata": {
    "collapsed": true
   },
   "outputs": [
    {
     "data": {
      "text/plain": "['COLOR_BAYER_BG2BGR',\n 'COLOR_BAYER_BG2BGRA',\n 'COLOR_BAYER_BG2BGR_EA',\n 'COLOR_BAYER_BG2BGR_VNG',\n 'COLOR_BAYER_BG2GRAY',\n 'COLOR_BAYER_BG2RGB',\n 'COLOR_BAYER_BG2RGBA',\n 'COLOR_BAYER_BG2RGB_EA',\n 'COLOR_BAYER_BG2RGB_VNG',\n 'COLOR_BAYER_BGGR2BGR',\n 'COLOR_BAYER_BGGR2BGRA',\n 'COLOR_BAYER_BGGR2BGR_EA',\n 'COLOR_BAYER_BGGR2BGR_VNG',\n 'COLOR_BAYER_BGGR2GRAY',\n 'COLOR_BAYER_BGGR2RGB',\n 'COLOR_BAYER_BGGR2RGBA',\n 'COLOR_BAYER_BGGR2RGB_EA',\n 'COLOR_BAYER_BGGR2RGB_VNG',\n 'COLOR_BAYER_GB2BGR',\n 'COLOR_BAYER_GB2BGRA',\n 'COLOR_BAYER_GB2BGR_EA',\n 'COLOR_BAYER_GB2BGR_VNG',\n 'COLOR_BAYER_GB2GRAY',\n 'COLOR_BAYER_GB2RGB',\n 'COLOR_BAYER_GB2RGBA',\n 'COLOR_BAYER_GB2RGB_EA',\n 'COLOR_BAYER_GB2RGB_VNG',\n 'COLOR_BAYER_GBRG2BGR',\n 'COLOR_BAYER_GBRG2BGRA',\n 'COLOR_BAYER_GBRG2BGR_EA',\n 'COLOR_BAYER_GBRG2BGR_VNG',\n 'COLOR_BAYER_GBRG2GRAY',\n 'COLOR_BAYER_GBRG2RGB',\n 'COLOR_BAYER_GBRG2RGBA',\n 'COLOR_BAYER_GBRG2RGB_EA',\n 'COLOR_BAYER_GBRG2RGB_VNG',\n 'COLOR_BAYER_GR2BGR',\n 'COLOR_BAYER_GR2BGRA',\n 'COLOR_BAYER_GR2BGR_EA',\n 'COLOR_BAYER_GR2BGR_VNG',\n 'COLOR_BAYER_GR2GRAY',\n 'COLOR_BAYER_GR2RGB',\n 'COLOR_BAYER_GR2RGBA',\n 'COLOR_BAYER_GR2RGB_EA',\n 'COLOR_BAYER_GR2RGB_VNG',\n 'COLOR_BAYER_GRBG2BGR',\n 'COLOR_BAYER_GRBG2BGRA',\n 'COLOR_BAYER_GRBG2BGR_EA',\n 'COLOR_BAYER_GRBG2BGR_VNG',\n 'COLOR_BAYER_GRBG2GRAY',\n 'COLOR_BAYER_GRBG2RGB',\n 'COLOR_BAYER_GRBG2RGBA',\n 'COLOR_BAYER_GRBG2RGB_EA',\n 'COLOR_BAYER_GRBG2RGB_VNG',\n 'COLOR_BAYER_RG2BGR',\n 'COLOR_BAYER_RG2BGRA',\n 'COLOR_BAYER_RG2BGR_EA',\n 'COLOR_BAYER_RG2BGR_VNG',\n 'COLOR_BAYER_RG2GRAY',\n 'COLOR_BAYER_RG2RGB',\n 'COLOR_BAYER_RG2RGBA',\n 'COLOR_BAYER_RG2RGB_EA',\n 'COLOR_BAYER_RG2RGB_VNG',\n 'COLOR_BAYER_RGGB2BGR',\n 'COLOR_BAYER_RGGB2BGRA',\n 'COLOR_BAYER_RGGB2BGR_EA',\n 'COLOR_BAYER_RGGB2BGR_VNG',\n 'COLOR_BAYER_RGGB2GRAY',\n 'COLOR_BAYER_RGGB2RGB',\n 'COLOR_BAYER_RGGB2RGBA',\n 'COLOR_BAYER_RGGB2RGB_EA',\n 'COLOR_BAYER_RGGB2RGB_VNG',\n 'COLOR_BGR2BGR555',\n 'COLOR_BGR2BGR565',\n 'COLOR_BGR2BGRA',\n 'COLOR_BGR2GRAY',\n 'COLOR_BGR2HLS',\n 'COLOR_BGR2HLS_FULL',\n 'COLOR_BGR2HSV',\n 'COLOR_BGR2HSV_FULL',\n 'COLOR_BGR2LAB',\n 'COLOR_BGR2LUV',\n 'COLOR_BGR2Lab',\n 'COLOR_BGR2Luv',\n 'COLOR_BGR2RGB',\n 'COLOR_BGR2RGBA',\n 'COLOR_BGR2XYZ',\n 'COLOR_BGR2YCR_CB',\n 'COLOR_BGR2YCrCb',\n 'COLOR_BGR2YUV',\n 'COLOR_BGR2YUV_I420',\n 'COLOR_BGR2YUV_IYUV',\n 'COLOR_BGR2YUV_YV12',\n 'COLOR_BGR5552BGR',\n 'COLOR_BGR5552BGRA',\n 'COLOR_BGR5552GRAY',\n 'COLOR_BGR5552RGB',\n 'COLOR_BGR5552RGBA',\n 'COLOR_BGR5652BGR',\n 'COLOR_BGR5652BGRA',\n 'COLOR_BGR5652GRAY',\n 'COLOR_BGR5652RGB',\n 'COLOR_BGR5652RGBA',\n 'COLOR_BGRA2BGR',\n 'COLOR_BGRA2BGR555',\n 'COLOR_BGRA2BGR565',\n 'COLOR_BGRA2GRAY',\n 'COLOR_BGRA2RGB',\n 'COLOR_BGRA2RGBA',\n 'COLOR_BGRA2YUV_I420',\n 'COLOR_BGRA2YUV_IYUV',\n 'COLOR_BGRA2YUV_YV12',\n 'COLOR_BayerBG2BGR',\n 'COLOR_BayerBG2BGRA',\n 'COLOR_BayerBG2BGR_EA',\n 'COLOR_BayerBG2BGR_VNG',\n 'COLOR_BayerBG2GRAY',\n 'COLOR_BayerBG2RGB',\n 'COLOR_BayerBG2RGBA',\n 'COLOR_BayerBG2RGB_EA',\n 'COLOR_BayerBG2RGB_VNG',\n 'COLOR_BayerBGGR2BGR',\n 'COLOR_BayerBGGR2BGRA',\n 'COLOR_BayerBGGR2BGR_EA',\n 'COLOR_BayerBGGR2BGR_VNG',\n 'COLOR_BayerBGGR2GRAY',\n 'COLOR_BayerBGGR2RGB',\n 'COLOR_BayerBGGR2RGBA',\n 'COLOR_BayerBGGR2RGB_EA',\n 'COLOR_BayerBGGR2RGB_VNG',\n 'COLOR_BayerGB2BGR',\n 'COLOR_BayerGB2BGRA',\n 'COLOR_BayerGB2BGR_EA',\n 'COLOR_BayerGB2BGR_VNG',\n 'COLOR_BayerGB2GRAY',\n 'COLOR_BayerGB2RGB',\n 'COLOR_BayerGB2RGBA',\n 'COLOR_BayerGB2RGB_EA',\n 'COLOR_BayerGB2RGB_VNG',\n 'COLOR_BayerGBRG2BGR',\n 'COLOR_BayerGBRG2BGRA',\n 'COLOR_BayerGBRG2BGR_EA',\n 'COLOR_BayerGBRG2BGR_VNG',\n 'COLOR_BayerGBRG2GRAY',\n 'COLOR_BayerGBRG2RGB',\n 'COLOR_BayerGBRG2RGBA',\n 'COLOR_BayerGBRG2RGB_EA',\n 'COLOR_BayerGBRG2RGB_VNG',\n 'COLOR_BayerGR2BGR',\n 'COLOR_BayerGR2BGRA',\n 'COLOR_BayerGR2BGR_EA',\n 'COLOR_BayerGR2BGR_VNG',\n 'COLOR_BayerGR2GRAY',\n 'COLOR_BayerGR2RGB',\n 'COLOR_BayerGR2RGBA',\n 'COLOR_BayerGR2RGB_EA',\n 'COLOR_BayerGR2RGB_VNG',\n 'COLOR_BayerGRBG2BGR',\n 'COLOR_BayerGRBG2BGRA',\n 'COLOR_BayerGRBG2BGR_EA',\n 'COLOR_BayerGRBG2BGR_VNG',\n 'COLOR_BayerGRBG2GRAY',\n 'COLOR_BayerGRBG2RGB',\n 'COLOR_BayerGRBG2RGBA',\n 'COLOR_BayerGRBG2RGB_EA',\n 'COLOR_BayerGRBG2RGB_VNG',\n 'COLOR_BayerRG2BGR',\n 'COLOR_BayerRG2BGRA',\n 'COLOR_BayerRG2BGR_EA',\n 'COLOR_BayerRG2BGR_VNG',\n 'COLOR_BayerRG2GRAY',\n 'COLOR_BayerRG2RGB',\n 'COLOR_BayerRG2RGBA',\n 'COLOR_BayerRG2RGB_EA',\n 'COLOR_BayerRG2RGB_VNG',\n 'COLOR_BayerRGGB2BGR',\n 'COLOR_BayerRGGB2BGRA',\n 'COLOR_BayerRGGB2BGR_EA',\n 'COLOR_BayerRGGB2BGR_VNG',\n 'COLOR_BayerRGGB2GRAY',\n 'COLOR_BayerRGGB2RGB',\n 'COLOR_BayerRGGB2RGBA',\n 'COLOR_BayerRGGB2RGB_EA',\n 'COLOR_BayerRGGB2RGB_VNG',\n 'COLOR_COLORCVT_MAX',\n 'COLOR_GRAY2BGR',\n 'COLOR_GRAY2BGR555',\n 'COLOR_GRAY2BGR565',\n 'COLOR_GRAY2BGRA',\n 'COLOR_GRAY2RGB',\n 'COLOR_GRAY2RGBA',\n 'COLOR_HLS2BGR',\n 'COLOR_HLS2BGR_FULL',\n 'COLOR_HLS2RGB',\n 'COLOR_HLS2RGB_FULL',\n 'COLOR_HSV2BGR',\n 'COLOR_HSV2BGR_FULL',\n 'COLOR_HSV2RGB',\n 'COLOR_HSV2RGB_FULL',\n 'COLOR_LAB2BGR',\n 'COLOR_LAB2LBGR',\n 'COLOR_LAB2LRGB',\n 'COLOR_LAB2RGB',\n 'COLOR_LBGR2LAB',\n 'COLOR_LBGR2LUV',\n 'COLOR_LBGR2Lab',\n 'COLOR_LBGR2Luv',\n 'COLOR_LRGB2LAB',\n 'COLOR_LRGB2LUV',\n 'COLOR_LRGB2Lab',\n 'COLOR_LRGB2Luv',\n 'COLOR_LUV2BGR',\n 'COLOR_LUV2LBGR',\n 'COLOR_LUV2LRGB',\n 'COLOR_LUV2RGB',\n 'COLOR_Lab2BGR',\n 'COLOR_Lab2LBGR',\n 'COLOR_Lab2LRGB',\n 'COLOR_Lab2RGB',\n 'COLOR_Luv2BGR',\n 'COLOR_Luv2LBGR',\n 'COLOR_Luv2LRGB',\n 'COLOR_Luv2RGB',\n 'COLOR_M_RGBA2RGBA',\n 'COLOR_RGB2BGR',\n 'COLOR_RGB2BGR555',\n 'COLOR_RGB2BGR565',\n 'COLOR_RGB2BGRA',\n 'COLOR_RGB2GRAY',\n 'COLOR_RGB2HLS',\n 'COLOR_RGB2HLS_FULL',\n 'COLOR_RGB2HSV',\n 'COLOR_RGB2HSV_FULL',\n 'COLOR_RGB2LAB',\n 'COLOR_RGB2LUV',\n 'COLOR_RGB2Lab',\n 'COLOR_RGB2Luv',\n 'COLOR_RGB2RGBA',\n 'COLOR_RGB2XYZ',\n 'COLOR_RGB2YCR_CB',\n 'COLOR_RGB2YCrCb',\n 'COLOR_RGB2YUV',\n 'COLOR_RGB2YUV_I420',\n 'COLOR_RGB2YUV_IYUV',\n 'COLOR_RGB2YUV_YV12',\n 'COLOR_RGBA2BGR',\n 'COLOR_RGBA2BGR555',\n 'COLOR_RGBA2BGR565',\n 'COLOR_RGBA2BGRA',\n 'COLOR_RGBA2GRAY',\n 'COLOR_RGBA2M_RGBA',\n 'COLOR_RGBA2RGB',\n 'COLOR_RGBA2YUV_I420',\n 'COLOR_RGBA2YUV_IYUV',\n 'COLOR_RGBA2YUV_YV12',\n 'COLOR_RGBA2mRGBA',\n 'COLOR_XYZ2BGR',\n 'COLOR_XYZ2RGB',\n 'COLOR_YCR_CB2BGR',\n 'COLOR_YCR_CB2RGB',\n 'COLOR_YCrCb2BGR',\n 'COLOR_YCrCb2RGB',\n 'COLOR_YUV2BGR',\n 'COLOR_YUV2BGRA_I420',\n 'COLOR_YUV2BGRA_IYUV',\n 'COLOR_YUV2BGRA_NV12',\n 'COLOR_YUV2BGRA_NV21',\n 'COLOR_YUV2BGRA_UYNV',\n 'COLOR_YUV2BGRA_UYVY',\n 'COLOR_YUV2BGRA_Y422',\n 'COLOR_YUV2BGRA_YUNV',\n 'COLOR_YUV2BGRA_YUY2',\n 'COLOR_YUV2BGRA_YUYV',\n 'COLOR_YUV2BGRA_YV12',\n 'COLOR_YUV2BGRA_YVYU',\n 'COLOR_YUV2BGR_I420',\n 'COLOR_YUV2BGR_IYUV',\n 'COLOR_YUV2BGR_NV12',\n 'COLOR_YUV2BGR_NV21',\n 'COLOR_YUV2BGR_UYNV',\n 'COLOR_YUV2BGR_UYVY',\n 'COLOR_YUV2BGR_Y422',\n 'COLOR_YUV2BGR_YUNV',\n 'COLOR_YUV2BGR_YUY2',\n 'COLOR_YUV2BGR_YUYV',\n 'COLOR_YUV2BGR_YV12',\n 'COLOR_YUV2BGR_YVYU',\n 'COLOR_YUV2GRAY_420',\n 'COLOR_YUV2GRAY_I420',\n 'COLOR_YUV2GRAY_IYUV',\n 'COLOR_YUV2GRAY_NV12',\n 'COLOR_YUV2GRAY_NV21',\n 'COLOR_YUV2GRAY_UYNV',\n 'COLOR_YUV2GRAY_UYVY',\n 'COLOR_YUV2GRAY_Y422',\n 'COLOR_YUV2GRAY_YUNV',\n 'COLOR_YUV2GRAY_YUY2',\n 'COLOR_YUV2GRAY_YUYV',\n 'COLOR_YUV2GRAY_YV12',\n 'COLOR_YUV2GRAY_YVYU',\n 'COLOR_YUV2RGB',\n 'COLOR_YUV2RGBA_I420',\n 'COLOR_YUV2RGBA_IYUV',\n 'COLOR_YUV2RGBA_NV12',\n 'COLOR_YUV2RGBA_NV21',\n 'COLOR_YUV2RGBA_UYNV',\n 'COLOR_YUV2RGBA_UYVY',\n 'COLOR_YUV2RGBA_Y422',\n 'COLOR_YUV2RGBA_YUNV',\n 'COLOR_YUV2RGBA_YUY2',\n 'COLOR_YUV2RGBA_YUYV',\n 'COLOR_YUV2RGBA_YV12',\n 'COLOR_YUV2RGBA_YVYU',\n 'COLOR_YUV2RGB_I420',\n 'COLOR_YUV2RGB_IYUV',\n 'COLOR_YUV2RGB_NV12',\n 'COLOR_YUV2RGB_NV21',\n 'COLOR_YUV2RGB_UYNV',\n 'COLOR_YUV2RGB_UYVY',\n 'COLOR_YUV2RGB_Y422',\n 'COLOR_YUV2RGB_YUNV',\n 'COLOR_YUV2RGB_YUY2',\n 'COLOR_YUV2RGB_YUYV',\n 'COLOR_YUV2RGB_YV12',\n 'COLOR_YUV2RGB_YVYU',\n 'COLOR_YUV420P2BGR',\n 'COLOR_YUV420P2BGRA',\n 'COLOR_YUV420P2GRAY',\n 'COLOR_YUV420P2RGB',\n 'COLOR_YUV420P2RGBA',\n 'COLOR_YUV420SP2BGR',\n 'COLOR_YUV420SP2BGRA',\n 'COLOR_YUV420SP2GRAY',\n 'COLOR_YUV420SP2RGB',\n 'COLOR_YUV420SP2RGBA',\n 'COLOR_YUV420p2BGR',\n 'COLOR_YUV420p2BGRA',\n 'COLOR_YUV420p2GRAY',\n 'COLOR_YUV420p2RGB',\n 'COLOR_YUV420p2RGBA',\n 'COLOR_YUV420sp2BGR',\n 'COLOR_YUV420sp2BGRA',\n 'COLOR_YUV420sp2GRAY',\n 'COLOR_YUV420sp2RGB',\n 'COLOR_YUV420sp2RGBA',\n 'COLOR_mRGBA2RGBA']"
     },
     "execution_count": 1,
     "metadata": {},
     "output_type": "execute_result"
    }
   ],
   "source": [
    "import cv2 as cv\n",
    "\n",
    "flags = [i for i in dir(cv) if i.startswith('COLOR_')]\n",
    "flags"
   ]
  },
  {
   "cell_type": "markdown",
   "source": [
    "## 对象追踪"
   ],
   "metadata": {
    "collapsed": false
   }
  },
  {
   "cell_type": "code",
   "execution_count": 3,
   "outputs": [],
   "source": [
    "import cv2 as cv\n",
    "import numpy as np\n",
    "\n",
    "cap = cv.VideoCapture(0)\n",
    "while True:\n",
    "    # 读取帧\n",
    "    _, frame = cap.read()\n",
    "    # 转换颜色空间 BGR 到 HSV\n",
    "    hsv = cv.cvtColor(frame, cv.COLOR_BGR2HSV)\n",
    "\n",
    "    # 定义HSV中蓝色的范围\n",
    "    lower_blue = np.array([110, 50, 50])\n",
    "    upper_blue = np.array([130, 255, 255])\n",
    "\n",
    "    # 设置HSV的阈值使得只取蓝色\n",
    "    mask = cv.inRange(hsv, lower_blue, upper_blue)\n",
    "\n",
    "    # 将掩膜和图像逐像素相加\n",
    "    res = cv.bitwise_and(frame, frame, mask=mask)\n",
    "\n",
    "    cv.imshow('frame', frame)\n",
    "    cv.imshow('mask', mask)\n",
    "    cv.imshow('res', res)\n",
    "    # 在ASCII码中，27表示Escape键。\n",
    "    k = cv.waitKey(5) & 0xFF\n",
    "    if k == 27:\n",
    "        break\n",
    "cv.destroyAllWindows()"
   ],
   "metadata": {
    "collapsed": false
   }
  },
  {
   "cell_type": "code",
   "execution_count": 4,
   "outputs": [
    {
     "name": "stdout",
     "output_type": "stream",
     "text": [
      "[[[120 255 255]]]\n"
     ]
    }
   ],
   "source": [
    "blue = np.uint8([[[255, 0, 0]]])\n",
    "hsv_blue = cv.cvtColor(blue, cv.COLOR_BGR2HSV)\n",
    "print(hsv_blue)\n",
    "# [[[120 255 255]]]\n",
    "# 上界+10 下界-10\n",
    "lower_blue = np.array([110, 50, 50])\n",
    "upper_blue = np.array([130, 255, 255])"
   ],
   "metadata": {
    "collapsed": false
   }
  }
 ],
 "metadata": {
  "kernelspec": {
   "display_name": "Python 3",
   "language": "python",
   "name": "python3"
  },
  "language_info": {
   "codemirror_mode": {
    "name": "ipython",
    "version": 2
   },
   "file_extension": ".py",
   "mimetype": "text/x-python",
   "name": "python",
   "nbconvert_exporter": "python",
   "pygments_lexer": "ipython2",
   "version": "2.7.6"
  }
 },
 "nbformat": 4,
 "nbformat_minor": 0
}
