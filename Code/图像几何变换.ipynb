{
 "cells": [
  {
   "cell_type": "markdown",
   "source": [
    "缩放"
   ],
   "metadata": {
    "collapsed": false
   }
  },
  {
   "cell_type": "markdown",
   "source": [
    "cv.resize()\n",
    "图像的大小可以手动指定，也可以指定缩放比例。也可使用不同的插值方法。\n",
    "首选的插值方法是**cv.INTER_AREA**用于缩小\n",
    "**cv.INTER_CUBIC**（慢）\n",
    "**cv.INTER_LINEAR**用于缩放。\n",
    "默认情况下，出于所有调整大小的目的，使用的插值方法为 **cv.INTER_LINEAR**"
   ],
   "metadata": {
    "collapsed": false
   }
  },
  {
   "cell_type": "code",
   "execution_count": 8,
   "outputs": [],
   "source": [
    "import cv2 as cv\n",
    "\n",
    "# 缩放缩小一半和放大一半\n",
    "img = cv.imread('../images/captcha.png')\n",
    "res = cv.resize(img, None, fx=0.5, fy=0.5, interpolation=cv.INTER_LINEAR)\n",
    "cv.imshow('captcha', res)\n",
    "cv.waitKey(0)\n",
    "cv.destroyAllWindows()\n",
    "#或者\n",
    "height, width = img.shape[:2]\n",
    "res1 = cv.resize(img, (2 * width, 2 * height), interpolation=cv.INTER_CUBIC)\n",
    "cv.imshow('captcha', res1)\n",
    "cv.waitKey(0)\n",
    "cv.destroyAllWindows()"
   ],
   "metadata": {
    "collapsed": false
   }
  },
  {
   "cell_type": "code",
   "execution_count": 9,
   "outputs": [],
   "source": [
    "# 之前也写了个等比例缩放的函数\n",
    "# 等比例缩放显示\n",
    "def show_frame(frame):\n",
    "    # 获取图像的宽度和高度\n",
    "    height, width = frame.shape[:2]\n",
    "\n",
    "    # 设置希望的缩放宽度\n",
    "    desired_width = 400\n",
    "\n",
    "    # 计算缩放比例，确保等比例缩放\n",
    "    scale_factor = desired_width / width\n",
    "\n",
    "    # 计算缩放后的新高度\n",
    "    desired_height = int(height * scale_factor)\n",
    "\n",
    "    # 缩放图像\n",
    "    resized_image = cv.resize(frame, (desired_width, desired_height))\n",
    "    return resized_image\n",
    "\n",
    "\n",
    "img_show = show_frame(img)\n",
    "cv.imshow(\"img_show\", img_show)\n",
    "cv.waitKey(0)\n",
    "cv.destroyAllWindows()"
   ],
   "metadata": {
    "collapsed": false
   }
  },
  {
   "cell_type": "markdown",
   "source": [
    "旋转"
   ],
   "metadata": {
    "collapsed": false
   }
  },
  {
   "cell_type": "code",
   "execution_count": 12,
   "outputs": [],
   "source": [
    "img = cv.imread('../images/captcha.png', 0)\n",
    "rows, cols = img.shape\n",
    "# cols-1 和 rows-1 是坐标限制\n",
    "M = cv.getRotationMatrix2D(((cols - 1) / 2.0, (rows - 1) / 2.0), 180, 1)  # 180度旋转\n",
    "dst = cv.warpAffine(img, M, (cols, rows))\n",
    "cv.imshow(\"dst\", dst)\n",
    "cv.waitKey(0)\n",
    "cv.destroyAllWindows()"
   ],
   "metadata": {
    "collapsed": false
   }
  }
 ],
 "metadata": {
  "kernelspec": {
   "display_name": "Python 3",
   "language": "python",
   "name": "python3"
  },
  "language_info": {
   "codemirror_mode": {
    "name": "ipython",
    "version": 2
   },
   "file_extension": ".py",
   "mimetype": "text/x-python",
   "name": "python",
   "nbconvert_exporter": "python",
   "pygments_lexer": "ipython2",
   "version": "2.7.6"
  }
 },
 "nbformat": 4,
 "nbformat_minor": 0
}
