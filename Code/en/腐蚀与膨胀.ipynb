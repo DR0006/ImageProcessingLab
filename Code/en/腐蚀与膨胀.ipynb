{
 "cells": [
  {
   "cell_type": "markdown",
   "source": [
    "OpenCV库对一幅二值图像进行膨胀的方法是dilate()"
   ],
   "metadata": {
    "collapsed": false
   }
  },
  {
   "cell_type": "code",
   "execution_count": 10,
   "metadata": {
    "collapsed": true
   },
   "outputs": [],
   "source": [
    "import cv2\n",
    "import numpy\n",
    "\n",
    "img_data = cv2.imread(\"../../images/car_plate.png\")\n",
    "gray = cv2.cvtColor(img_data, cv2.COLOR_BGR2GRAY)\n",
    "# _, origin = cv2.threshold(gray, 50, 255, cv2.THRESH_BINARY_INV)\n",
    "_, origin = cv2.threshold(gray, 150, 255, cv2.THRESH_BINARY)\n",
    "\n",
    "# numpy.ones(10,10)产生一个10行、10列的元素为1的数组\n",
    "# 用这个核作为膨胀dilate()方法的第二个参数\n",
    "kernel = numpy.ones((10, 10), numpy.uint8)\n",
    "# 第一个参数就是二值化的图像数据，第三个参数iterations表示迭代的次数\n",
    "dilation = cv2.dilate(origin, kernel, iterations=1)\n",
    "cv2.imshow(\"origin\", origin)\n",
    "cv2.imshow(\"dilations\", dilation)\n",
    "cv2.waitKey(0)\n",
    "cv2.destroyAllWindows()"
   ]
  },
  {
   "cell_type": "markdown",
   "source": [
    "OpenCV库对一幅二值图像进行腐蚀的方法是erode()"
   ],
   "metadata": {
    "collapsed": false
   }
  },
  {
   "cell_type": "code",
   "execution_count": 14,
   "outputs": [],
   "source": [
    "import cv2\n",
    "import numpy\n",
    "\n",
    "img_data = cv2.imread(\"../../images/car_plate.png\")\n",
    "gray = cv2.cvtColor(img_data, cv2.COLOR_BGR2GRAY)\n",
    "_, origin = cv2.threshold(gray, 150, 255, cv2.THRESH_BINARY)\n",
    "kernel = numpy.ones((10, 10), numpy.uint8)\n",
    "dilation = cv2.erode(origin, kernel, iterations=1)\n",
    "cv2.imshow(\"origin\", origin)\n",
    "cv2.imshow(\"dilations\", dilation)\n",
    "cv2.waitKey(0)\n",
    "cv2.destroyAllWindows()"
   ],
   "metadata": {
    "collapsed": false
   }
  },
  {
   "cell_type": "markdown",
   "source": [
    "在应用中膨胀和腐蚀往往是一起使用的\n",
    "开运算，闭运算\n",
    "开运算，先腐蚀后膨胀\n",
    "用来消除图像中细小对象，在纤细点处分离物体和平滑较大物体的边界而不明显改变其面积和形状。\n",
    "---\n",
    "闭运算，就是先膨胀、后腐蚀，用来填充目标内部的细小孔洞（fill hole），将断开的邻近目标连接，在不明显改变物体面积和形状的情况下平滑其边界。"
   ],
   "metadata": {
    "collapsed": false
   }
  }
 ],
 "metadata": {
  "kernelspec": {
   "display_name": "Python 3",
   "language": "python",
   "name": "python3"
  },
  "language_info": {
   "codemirror_mode": {
    "name": "ipython",
    "version": 2
   },
   "file_extension": ".py",
   "mimetype": "text/x-python",
   "name": "python",
   "nbconvert_exporter": "python",
   "pygments_lexer": "ipython2",
   "version": "2.7.6"
  }
 },
 "nbformat": 4,
 "nbformat_minor": 0
}
