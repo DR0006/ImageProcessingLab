{
 "cells": [
  {
   "cell_type": "markdown",
   "source": [
    "### 实现Roberts算子"
   ],
   "metadata": {
    "collapsed": false
   }
  },
  {
   "cell_type": "code",
   "execution_count": 1,
   "metadata": {
    "collapsed": true
   },
   "outputs": [],
   "source": [
    "import cv2\n",
    "import numpy\n",
    "\n",
    "img = cv2.imread('../../images/car.png')\n",
    "# 灰度化处理图像\n",
    "grayImage = cv2.cvtColor(img, cv2.COLOR_BGR2GRAY)\n",
    "# Roberts算子\n",
    "kernelx = numpy.array([[-1, 0], [0, 1]], dtype=int)\n",
    "kernely = numpy.array([[0, -1], [1, 0]], dtype=int)\n",
    "# 二维卷积操作\n",
    "x = cv2.filter2D(grayImage, cv2.CV_16S, kernelx)\n",
    "y = cv2.filter2D(grayImage, cv2.CV_16S, kernely)\n",
    "# 计算后的图像有正有负，取其绝对值\n",
    "absX = cv2.convertScaleAbs(x)  # 对卷积运算结果中负值取绝对值\n",
    "absY = cv2.convertScaleAbs(y)\n",
    "#将两个算子的权重系数平均，计算最终的边缘结果\n",
    "# addWeighted()函数决定了对两个卷积核求卷积所得到的每一个绝对值结果再进行插值法求最终结果，就是每个卷积核求卷积结果的权重值乘两种卷积核求卷积后的结果。\n",
    "roberts = cv2.addWeighted(absX, 0.5, absY, 0.5, 0)\n",
    "#显示图像\n",
    "cv2.imshow(\"img\", grayImage)\n",
    "cv2.waitKey(0)\n",
    "cv2.imshow(\"edge\", roberts)\n",
    "cv2.waitKey(0)\n",
    "cv2.destroyAllWindows()"
   ]
  },
  {
   "cell_type": "markdown",
   "source": [
    "### Sobel算子"
   ],
   "metadata": {
    "collapsed": false
   }
  },
  {
   "cell_type": "markdown",
   "source": [
    "Sobel算子则是把卷积核替换成高斯卷积核，在图像的平滑处理上面，高斯平滑的效果比较好。用Sobel算子来处理边缘检测的问题也会给图像带来平滑处理。"
   ],
   "metadata": {
    "collapsed": false
   }
  },
  {
   "cell_type": "code",
   "execution_count": 2,
   "outputs": [],
   "source": [
    "import cv2\n",
    "\n",
    "img1 = cv2.imread(\"../../images/car_plate.png\")\n",
    "gray = cv2.cvtColor(img1, cv2.COLOR_BGR2GRAY)\n",
    "# 第二个参数表示处理后图像的深度，-1表示与原图有相同的深度，注意，这个参数需要目标图像的深度大于原图的深度；\n",
    "# 第三个和第四个参数决定从纵向还是从横向上进行求导数。通俗地可以这样理解，就是第三个参数相当于从纵向方向上求边缘，第四个参数决定从横向方向上求边缘\n",
    "# ksize是Sobel算子的大小，需要强调的是，Sobel算子的大小只有1、3、5、7这几个数值。\n",
    "grad_x = cv2.Sobel(gray, -1, 1, 0, ksize=3)\n",
    "grad_y = cv2.Sobel(gray, -1, 0, 1, ksize=3)\n",
    "grad = cv2.addWeighted(grad_x, 0.5, grad_y, 0.5, 0)\n",
    "cv2.imshow(\"img1\", img1)\n",
    "cv2.waitKey(0)\n",
    "cv2.imshow(\"img2\", grad)\n",
    "cv2.waitKey(0)\n",
    "cv2.destroyAllWindows()"
   ],
   "metadata": {
    "collapsed": false
   }
  },
  {
   "cell_type": "markdown",
   "source": [
    "### 第三种是Laplacian算子，即拉普拉斯算子"
   ],
   "metadata": {
    "collapsed": false
   }
  },
  {
   "cell_type": "code",
   "execution_count": 3,
   "outputs": [],
   "source": [
    "import cv2\n",
    "\n",
    "img = cv2.imread(\"../../images/car.png\")\n",
    "ray = cv2.cvtColor(img, cv2.COLOR_BGR2GRAY)\n",
    "# 第二个参数是图像的深度，第三个参数是算子的大小参数ksize，这里的算子大小也只有1、3、5、7。默认的ksize大小为1\n",
    "dst1 = cv2.Laplacian(gray, -1, ksize=3)\n",
    "dst2 = cv2.Laplacian(gray, -1, ksize=1)\n",
    "cv2.imshow(\"dst1\", dst1)\n",
    "cv2.imshow(\"dst2\", dst2)\n",
    "cv2.waitKey(0)\n",
    "cv2.destroyAllWindows()"
   ],
   "metadata": {
    "collapsed": false
   }
  },
  {
   "cell_type": "markdown",
   "source": [
    "### 第四种是Canny算子"
   ],
   "metadata": {
    "collapsed": false
   }
  },
  {
   "cell_type": "code",
   "execution_count": 4,
   "outputs": [],
   "source": [
    "import cv2\n",
    "\n",
    "img = cv2.imread(\"../../images/car.png\")\n",
    "gray = cv2.cvtColor(img, cv2.COLOR_BGR2GRAY)\n",
    "# 第一个参数就是需要处理的图像，第二个参数是低阈值，第三个参数是高阈值，Canny()就是用双阈值的方法来进行边缘检测的\n",
    "dst = cv2.Canny(gray, 100, 200)\n",
    "cv2.imshow(\"dst\", dst)\n",
    "cv2.waitKey(0)\n",
    "cv2.destroyAllWindows()"
   ],
   "metadata": {
    "collapsed": false
   }
  }
 ],
 "metadata": {
  "kernelspec": {
   "display_name": "Python 3",
   "language": "python",
   "name": "python3"
  },
  "language_info": {
   "codemirror_mode": {
    "name": "ipython",
    "version": 2
   },
   "file_extension": ".py",
   "mimetype": "text/x-python",
   "name": "python",
   "nbconvert_exporter": "python",
   "pygments_lexer": "ipython2",
   "version": "2.7.6"
  }
 },
 "nbformat": 4,
 "nbformat_minor": 0
}
